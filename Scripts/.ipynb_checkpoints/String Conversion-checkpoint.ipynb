{
 "cells": [
  {
   "cell_type": "markdown",
   "metadata": {},
   "source": [
    "# String Conversion"
   ]
  },
  {
   "cell_type": "markdown",
   "metadata": {},
   "source": [
    "converting the lowercase letter in string to uppercase and vice-versa"
   ]
  },
  {
   "cell_type": "code",
   "execution_count": 9,
   "metadata": {},
   "outputs": [
    {
     "name": "stdout",
     "output_type": "stream",
     "text": [
      "Enter your string : Madhgff7e546AAAttt\n",
      "mADHGFF7E546aaaTTT\n"
     ]
    }
   ],
   "source": [
    "def swapping_case(string):\n",
    "    temp = \"\"\n",
    "    for character in string:\n",
    "        if character.isupper() == True:\n",
    "            temp += character.lower()\n",
    "        else:\n",
    "            temp += character.upper()\n",
    "    print(temp)\n",
    "sswap =input(\"Enter your string : \") \n",
    "swapping_case(sswap)"
   ]
  },
  {
   "cell_type": "code",
   "execution_count": null,
   "metadata": {},
   "outputs": [],
   "source": []
  }
 ],
 "metadata": {
  "kernelspec": {
   "display_name": "Python 3",
   "language": "python",
   "name": "python3"
  },
  "language_info": {
   "codemirror_mode": {
    "name": "ipython",
    "version": 3
   },
   "file_extension": ".py",
   "mimetype": "text/x-python",
   "name": "python",
   "nbconvert_exporter": "python",
   "pygments_lexer": "ipython3",
   "version": "3.6.10"
  }
 },
 "nbformat": 4,
 "nbformat_minor": 4
}
