{
 "cells": [
  {
   "cell_type": "markdown",
   "metadata": {},
   "source": [
    "# Fibonacci Series"
   ]
  },
  {
   "cell_type": "markdown",
   "metadata": {},
   "source": [
    "Program to display the Fibonacci sequence up to n-th term starting from 0"
   ]
  },
  {
   "cell_type": "code",
   "execution_count": 10,
   "metadata": {},
   "outputs": [
    {
     "name": "stdout",
     "output_type": "stream",
     "text": [
      "Enter the length of series 1\n",
      "Fibonacci sequence upto 1 :\n",
      "0\n"
     ]
    },
    {
     "data": {
      "text/plain": [
       "[0]"
      ]
     },
     "execution_count": 10,
     "metadata": {},
     "output_type": "execute_result"
    }
   ],
   "source": [
    "def fibo_series(slength):\n",
    "    n1, n2 = 0, 1\n",
    "    lst=[]\n",
    "    count = 0\n",
    "    if slength <= 0:\n",
    "        print(\"Please enter a positive integer\")\n",
    "    elif slength == 1:\n",
    "        print(\"Fibonacci sequence upto\",slength,\":\")\n",
    "        print(n1)\n",
    "        lst.append(n1)\n",
    "    else:\n",
    "        print(\"Fibonacci series:\")\n",
    "        while count < slength:\n",
    "            print(n1)\n",
    "            lst.append(n1)\n",
    "            nth = n1 + n2\n",
    "            n1 = n2\n",
    "            n2 = nth\n",
    "            count += 1\n",
    "    result=(map(lambda num:num ** 3,lst))\n",
    "    return list(result)\n",
    "slength = int(input(\"Enter the length of series \"))\n",
    "fibo_series(slength)"
   ]
  },
  {
   "cell_type": "code",
   "execution_count": null,
   "metadata": {},
   "outputs": [],
   "source": []
  }
 ],
 "metadata": {
  "kernelspec": {
   "display_name": "Python 3",
   "language": "python",
   "name": "python3"
  },
  "language_info": {
   "codemirror_mode": {
    "name": "ipython",
    "version": 3
   },
   "file_extension": ".py",
   "mimetype": "text/x-python",
   "name": "python",
   "nbconvert_exporter": "python",
   "pygments_lexer": "ipython3",
   "version": "3.6.10"
  }
 },
 "nbformat": 4,
 "nbformat_minor": 4
}
